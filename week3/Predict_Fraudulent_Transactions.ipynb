{
 "cells": [
  {
   "cell_type": "markdown",
   "metadata": {},
   "source": [
    "## Setup"
   ]
  },
  {
   "cell_type": "code",
   "execution_count": 63,
   "metadata": {},
   "outputs": [],
   "source": [
    "import pandas as pd\n",
    "import numpy as np"
   ]
  },
  {
   "cell_type": "markdown",
   "metadata": {},
   "source": [
    "####  Dataset from: https://www.kaggle.com/c/ieee-fraud-detection"
   ]
  },
  {
   "cell_type": "code",
   "execution_count": 64,
   "metadata": {},
   "outputs": [],
   "source": [
    "raw_df = pd.read_csv(\"./ieee-fraud-detection/train_identity.csv\")"
   ]
  },
  {
   "cell_type": "code",
   "execution_count": 65,
   "metadata": {},
   "outputs": [
    {
     "data": {
      "text/plain": [
       "(144233, 41)"
      ]
     },
     "execution_count": 65,
     "metadata": {},
     "output_type": "execute_result"
    }
   ],
   "source": [
    "raw_df.shape"
   ]
  },
  {
   "cell_type": "code",
   "execution_count": 66,
   "metadata": {},
   "outputs": [],
   "source": [
    "trans_df = pd.read_csv(\"./ieee-fraud-detection/train_transaction.csv\")"
   ]
  },
  {
   "cell_type": "code",
   "execution_count": 67,
   "metadata": {},
   "outputs": [
    {
     "data": {
      "text/plain": [
       "(590540, 394)"
      ]
     },
     "execution_count": 67,
     "metadata": {},
     "output_type": "execute_result"
    }
   ],
   "source": [
    "trans_df.shape"
   ]
  },
  {
   "cell_type": "code",
   "execution_count": 68,
   "metadata": {},
   "outputs": [
    {
     "name": "stdout",
     "output_type": "stream",
     "text": [
      "        TransactionID  isFraud  TransactionDT  TransactionAmt ProductCD  \\\n",
      "0             2987000        0          86400          68.500         W   \n",
      "1             2987001        0          86401          29.000         W   \n",
      "2             2987002        0          86469          59.000         W   \n",
      "3             2987003        0          86499          50.000         W   \n",
      "4             2987004        0          86506          50.000         H   \n",
      "5             2987005        0          86510          49.000         W   \n",
      "6             2987006        0          86522         159.000         W   \n",
      "7             2987007        0          86529         422.500         W   \n",
      "8             2987008        0          86535          15.000         H   \n",
      "9             2987009        0          86536         117.000         W   \n",
      "10            2987010        0          86549          75.887         C   \n",
      "11            2987011        0          86555          16.495         C   \n",
      "12            2987012        0          86564          50.000         W   \n",
      "13            2987013        0          86585          40.000         W   \n",
      "14            2987014        0          86596          10.500         W   \n",
      "15            2987015        0          86618          57.950         W   \n",
      "16            2987016        0          86620          30.000         H   \n",
      "17            2987017        0          86668         100.000         H   \n",
      "18            2987018        0          86725          47.950         W   \n",
      "19            2987019        0          86730         186.000         W   \n",
      "20            2987020        0          86761          39.000         W   \n",
      "21            2987021        0          86769         159.950         W   \n",
      "22            2987022        0          86786          50.000         H   \n",
      "23            2987023        0          86808         107.950         W   \n",
      "24            2987024        0          86821          73.950         W   \n",
      "25            2987025        0          86944         107.950         W   \n",
      "26            2987026        0          86945         184.000         W   \n",
      "27            2987027        0          86972          47.950         W   \n",
      "28            2987028        0          86973          20.000         W   \n",
      "29            2987029        0          86979          36.990         W   \n",
      "...               ...      ...            ...             ...       ...   \n",
      "590510        3577510        0       15810518          24.500         W   \n",
      "590511        3577511        0       15810549         130.950         W   \n",
      "590512        3577512        0       15810563         764.000         W   \n",
      "590513        3577513        0       15810575         107.950         W   \n",
      "590514        3577514        0       15810578         159.950         W   \n",
      "590515        3577515        0       15810589         108.500         W   \n",
      "590516        3577516        0       15810592         760.760         W   \n",
      "590517        3577517        0       15810626         764.000         W   \n",
      "590518        3577518        0       15810760          49.000         W   \n",
      "590519        3577519        0       15810774        1659.950         W   \n",
      "590520        3577520        0       15810785          93.000         W   \n",
      "590521        3577521        0       15810802          48.877         C   \n",
      "590522        3577522        0       15810823          54.500         W   \n",
      "590523        3577523        0       15810833          58.950         W   \n",
      "590524        3577524        0       15810836          75.000         W   \n",
      "590525        3577525        0       15810866          57.950         W   \n",
      "590526        3577526        1       15810876         250.000         R   \n",
      "590527        3577527        0       15810883         189.950         W   \n",
      "590528        3577528        0       15810907         279.950         W   \n",
      "590529        3577529        0       15810912          73.838         C   \n",
      "590530        3577530        0       15810926         400.780         W   \n",
      "590531        3577531        0       15810935         400.000         R   \n",
      "590532        3577532        0       15811007         204.970         W   \n",
      "590533        3577533        0       15811029         107.950         W   \n",
      "590534        3577534        0       15811030          67.505         C   \n",
      "590535        3577535        0       15811047          49.000         W   \n",
      "590536        3577536        0       15811049          39.500         W   \n",
      "590537        3577537        0       15811079          30.950         W   \n",
      "590538        3577538        0       15811088         117.000         W   \n",
      "590539        3577539        0       15811131         279.950         W   \n",
      "\n",
      "        card1  card2  card3       card4  card5  ...  V330  V331  V332  V333  \\\n",
      "0       13926    NaN  150.0    discover  142.0  ...   NaN   NaN   NaN   NaN   \n",
      "1        2755  404.0  150.0  mastercard  102.0  ...   NaN   NaN   NaN   NaN   \n",
      "2        4663  490.0  150.0        visa  166.0  ...   NaN   NaN   NaN   NaN   \n",
      "3       18132  567.0  150.0  mastercard  117.0  ...   NaN   NaN   NaN   NaN   \n",
      "4        4497  514.0  150.0  mastercard  102.0  ...   0.0   0.0   0.0   0.0   \n",
      "5        5937  555.0  150.0        visa  226.0  ...   NaN   NaN   NaN   NaN   \n",
      "6       12308  360.0  150.0        visa  166.0  ...   NaN   NaN   NaN   NaN   \n",
      "7       12695  490.0  150.0        visa  226.0  ...   NaN   NaN   NaN   NaN   \n",
      "8        2803  100.0  150.0        visa  226.0  ...   0.0   0.0   0.0   0.0   \n",
      "9       17399  111.0  150.0  mastercard  224.0  ...   NaN   NaN   NaN   NaN   \n",
      "10      16496  352.0  117.0  mastercard  134.0  ...   NaN   NaN   NaN   NaN   \n",
      "11       4461  375.0  185.0  mastercard  224.0  ...   NaN   NaN   NaN   NaN   \n",
      "12       3786  418.0  150.0        visa  226.0  ...   NaN   NaN   NaN   NaN   \n",
      "13      12866  303.0  150.0        visa  226.0  ...   NaN   NaN   NaN   NaN   \n",
      "14      11839  490.0  150.0        visa  226.0  ...   NaN   NaN   NaN   NaN   \n",
      "15       7055  555.0  150.0        visa  226.0  ...   NaN   NaN   NaN   NaN   \n",
      "16       1790  555.0  150.0        visa  226.0  ...   0.0   0.0   0.0   0.0   \n",
      "17      11492  111.0  150.0  mastercard  219.0  ...   0.0   0.0   0.0   0.0   \n",
      "18       4663  490.0  150.0        visa  166.0  ...   NaN   NaN   NaN   NaN   \n",
      "19       7005  111.0  150.0        visa  226.0  ...   NaN   NaN   NaN   NaN   \n",
      "20       7875  314.0  150.0  mastercard  224.0  ...   NaN   NaN   NaN   NaN   \n",
      "21      11401  543.0  150.0  mastercard  117.0  ...   NaN   NaN   NaN   NaN   \n",
      "22       1724  583.0  150.0        visa  226.0  ...   0.0   0.0   0.0   0.0   \n",
      "23       2392  360.0  150.0  mastercard  166.0  ...   NaN   NaN   NaN   NaN   \n",
      "24      10112  360.0  150.0        visa  166.0  ...   NaN   NaN   NaN   NaN   \n",
      "25      15385  111.0  150.0  mastercard  224.0  ...   NaN   NaN   NaN   NaN   \n",
      "26      17868  148.0  150.0        visa  226.0  ...   NaN   NaN   NaN   NaN   \n",
      "27      11307  321.0  150.0        visa  226.0  ...   NaN   NaN   NaN   NaN   \n",
      "28       8431  269.0  150.0  mastercard  224.0  ...   NaN   NaN   NaN   NaN   \n",
      "29      12932  361.0  150.0        visa  226.0  ...   NaN   NaN   NaN   NaN   \n",
      "...       ...    ...    ...         ...    ...  ...   ...   ...   ...   ...   \n",
      "590510   9500  321.0  150.0        visa  226.0  ...   NaN   NaN   NaN   NaN   \n",
      "590511  12059  555.0  150.0        visa  226.0  ...   NaN   NaN   NaN   NaN   \n",
      "590512  16873  343.0  150.0        visa  226.0  ...   NaN   NaN   NaN   NaN   \n",
      "590513   2198  555.0  150.0        visa  166.0  ...   NaN   NaN   NaN   NaN   \n",
      "590514   2487  555.0  150.0        visa  226.0  ...   NaN   NaN   NaN   NaN   \n",
      "590515   4219  321.0  150.0        visa  226.0  ...   NaN   NaN   NaN   NaN   \n",
      "590516  17188  321.0  150.0        visa  226.0  ...   NaN   NaN   NaN   NaN   \n",
      "590517  16873  343.0  150.0        visa  226.0  ...   NaN   NaN   NaN   NaN   \n",
      "590518  11204  298.0  150.0        visa  226.0  ...   NaN   NaN   NaN   NaN   \n",
      "590519  18018  452.0  150.0  mastercard  117.0  ...   NaN   NaN   NaN   NaN   \n",
      "590520  17150  292.0  150.0        visa  226.0  ...   NaN   NaN   NaN   NaN   \n",
      "590521  12019  305.0  106.0  mastercard  224.0  ...   NaN   NaN   NaN   NaN   \n",
      "590522   3166  559.0  150.0        visa  166.0  ...   NaN   NaN   NaN   NaN   \n",
      "590523  13076  456.0  150.0  mastercard  117.0  ...   NaN   NaN   NaN   NaN   \n",
      "590524   7826  481.0  150.0  mastercard  224.0  ...   NaN   NaN   NaN   NaN   \n",
      "590525  11942  570.0  150.0        visa  226.0  ...   NaN   NaN   NaN   NaN   \n",
      "590526   1214  174.0  150.0        visa  226.0  ...   0.0   0.0   0.0   0.0   \n",
      "590527   6453  555.0  150.0        visa  226.0  ...   NaN   NaN   NaN   NaN   \n",
      "590528  15066  170.0  150.0  mastercard  102.0  ...   NaN   NaN   NaN   NaN   \n",
      "590529   5096  555.0  185.0  mastercard  137.0  ...   NaN   NaN   NaN   NaN   \n",
      "590530  15066  170.0  150.0  mastercard  102.0  ...   NaN   NaN   NaN   NaN   \n",
      "590531   6019  583.0  150.0        visa  226.0  ...   0.0   0.0   0.0   0.0   \n",
      "590532  12037  595.0  150.0  mastercard  224.0  ...   NaN   NaN   NaN   NaN   \n",
      "590533  13071  321.0  150.0        visa  226.0  ...   NaN   NaN   NaN   NaN   \n",
      "590534   5812  408.0  185.0  mastercard  224.0  ...   NaN   NaN   NaN   NaN   \n",
      "590535   6550    NaN  150.0        visa  226.0  ...   NaN   NaN   NaN   NaN   \n",
      "590536  10444  225.0  150.0  mastercard  224.0  ...   NaN   NaN   NaN   NaN   \n",
      "590537  12037  595.0  150.0  mastercard  224.0  ...   NaN   NaN   NaN   NaN   \n",
      "590538   7826  481.0  150.0  mastercard  224.0  ...   NaN   NaN   NaN   NaN   \n",
      "590539  15066  170.0  150.0  mastercard  102.0  ...   NaN   NaN   NaN   NaN   \n",
      "\n",
      "        V334 V335 V336  V337  V338  V339  \n",
      "0        NaN  NaN  NaN   NaN   NaN   NaN  \n",
      "1        NaN  NaN  NaN   NaN   NaN   NaN  \n",
      "2        NaN  NaN  NaN   NaN   NaN   NaN  \n",
      "3        NaN  NaN  NaN   NaN   NaN   NaN  \n",
      "4        0.0  0.0  0.0   0.0   0.0   0.0  \n",
      "5        NaN  NaN  NaN   NaN   NaN   NaN  \n",
      "6        NaN  NaN  NaN   NaN   NaN   NaN  \n",
      "7        NaN  NaN  NaN   NaN   NaN   NaN  \n",
      "8        0.0  0.0  0.0   0.0   0.0   0.0  \n",
      "9        NaN  NaN  NaN   NaN   NaN   NaN  \n",
      "10       NaN  NaN  NaN   NaN   NaN   NaN  \n",
      "11       NaN  NaN  NaN   NaN   NaN   NaN  \n",
      "12       NaN  NaN  NaN   NaN   NaN   NaN  \n",
      "13       NaN  NaN  NaN   NaN   NaN   NaN  \n",
      "14       NaN  NaN  NaN   NaN   NaN   NaN  \n",
      "15       NaN  NaN  NaN   NaN   NaN   NaN  \n",
      "16       0.0  0.0  0.0   0.0   0.0   0.0  \n",
      "17       0.0  0.0  0.0   0.0   0.0   0.0  \n",
      "18       NaN  NaN  NaN   NaN   NaN   NaN  \n",
      "19       NaN  NaN  NaN   NaN   NaN   NaN  \n",
      "20       NaN  NaN  NaN   NaN   NaN   NaN  \n",
      "21       NaN  NaN  NaN   NaN   NaN   NaN  \n",
      "22       0.0  0.0  0.0   0.0   0.0   0.0  \n",
      "23       NaN  NaN  NaN   NaN   NaN   NaN  \n",
      "24       NaN  NaN  NaN   NaN   NaN   NaN  \n",
      "25       NaN  NaN  NaN   NaN   NaN   NaN  \n",
      "26       NaN  NaN  NaN   NaN   NaN   NaN  \n",
      "27       NaN  NaN  NaN   NaN   NaN   NaN  \n",
      "28       NaN  NaN  NaN   NaN   NaN   NaN  \n",
      "29       NaN  NaN  NaN   NaN   NaN   NaN  \n",
      "...      ...  ...  ...   ...   ...   ...  \n",
      "590510   NaN  NaN  NaN   NaN   NaN   NaN  \n",
      "590511   NaN  NaN  NaN   NaN   NaN   NaN  \n",
      "590512   NaN  NaN  NaN   NaN   NaN   NaN  \n",
      "590513   NaN  NaN  NaN   NaN   NaN   NaN  \n",
      "590514   NaN  NaN  NaN   NaN   NaN   NaN  \n",
      "590515   NaN  NaN  NaN   NaN   NaN   NaN  \n",
      "590516   NaN  NaN  NaN   NaN   NaN   NaN  \n",
      "590517   NaN  NaN  NaN   NaN   NaN   NaN  \n",
      "590518   NaN  NaN  NaN   NaN   NaN   NaN  \n",
      "590519   NaN  NaN  NaN   NaN   NaN   NaN  \n",
      "590520   NaN  NaN  NaN   NaN   NaN   NaN  \n",
      "590521   NaN  NaN  NaN   NaN   NaN   NaN  \n",
      "590522   NaN  NaN  NaN   NaN   NaN   NaN  \n",
      "590523   NaN  NaN  NaN   NaN   NaN   NaN  \n",
      "590524   NaN  NaN  NaN   NaN   NaN   NaN  \n",
      "590525   NaN  NaN  NaN   NaN   NaN   NaN  \n",
      "590526   0.0  0.0  0.0   0.0   0.0   0.0  \n",
      "590527   NaN  NaN  NaN   NaN   NaN   NaN  \n",
      "590528   NaN  NaN  NaN   NaN   NaN   NaN  \n",
      "590529   NaN  NaN  NaN   NaN   NaN   NaN  \n",
      "590530   NaN  NaN  NaN   NaN   NaN   NaN  \n",
      "590531   0.0  0.0  0.0   0.0   0.0   0.0  \n",
      "590532   NaN  NaN  NaN   NaN   NaN   NaN  \n",
      "590533   NaN  NaN  NaN   NaN   NaN   NaN  \n",
      "590534   NaN  NaN  NaN   NaN   NaN   NaN  \n",
      "590535   NaN  NaN  NaN   NaN   NaN   NaN  \n",
      "590536   NaN  NaN  NaN   NaN   NaN   NaN  \n",
      "590537   NaN  NaN  NaN   NaN   NaN   NaN  \n",
      "590538   NaN  NaN  NaN   NaN   NaN   NaN  \n",
      "590539   NaN  NaN  NaN   NaN   NaN   NaN  \n",
      "\n",
      "[590540 rows x 394 columns]\n"
     ]
    }
   ],
   "source": [
    "print(trans_df)"
   ]
  },
  {
   "cell_type": "code",
   "execution_count": 69,
   "metadata": {},
   "outputs": [
    {
     "name": "stdout",
     "output_type": "stream",
     "text": [
      "       TransactionID        isFraud  TransactionDT  TransactionAmt  \\\n",
      "count   5.905400e+05  590540.000000   5.905400e+05   590540.000000   \n",
      "mean    3.282270e+06       0.034990   7.372311e+06      135.027176   \n",
      "std     1.704744e+05       0.183755   4.617224e+06      239.162522   \n",
      "min     2.987000e+06       0.000000   8.640000e+04        0.251000   \n",
      "25%     3.134635e+06       0.000000   3.027058e+06       43.321000   \n",
      "50%     3.282270e+06       0.000000   7.306528e+06       68.769000   \n",
      "75%     3.429904e+06       0.000000   1.124662e+07      125.000000   \n",
      "max     3.577539e+06       1.000000   1.581113e+07    31937.391000   \n",
      "\n",
      "               card1          card2          card3          card5  \\\n",
      "count  590540.000000  581607.000000  588975.000000  586281.000000   \n",
      "mean     9898.734658     362.555488     153.194925     199.278897   \n",
      "std      4901.170153     157.793246      11.336444      41.244453   \n",
      "min      1000.000000     100.000000     100.000000     100.000000   \n",
      "25%      6019.000000     214.000000     150.000000     166.000000   \n",
      "50%      9678.000000     361.000000     150.000000     226.000000   \n",
      "75%     14184.000000     512.000000     150.000000     226.000000   \n",
      "max     18396.000000     600.000000     231.000000     237.000000   \n",
      "\n",
      "               addr1          addr2      ...                V330  \\\n",
      "count  524834.000000  524834.000000      ...        82351.000000   \n",
      "mean      290.733794      86.800630      ...            0.775874   \n",
      "std       101.741072       2.690623      ...            4.727971   \n",
      "min       100.000000      10.000000      ...            0.000000   \n",
      "25%       204.000000      87.000000      ...            0.000000   \n",
      "50%       299.000000      87.000000      ...            0.000000   \n",
      "75%       330.000000      87.000000      ...            0.000000   \n",
      "max       540.000000     102.000000      ...           55.000000   \n",
      "\n",
      "                V331           V332           V333          V334         V335  \\\n",
      "count   82351.000000   82351.000000   82351.000000  82351.000000  82351.00000   \n",
      "mean      721.741883    1375.783644    1014.622782      9.807015     59.16455   \n",
      "std      6217.223583   11169.275702    7955.735482    243.861391    387.62948   \n",
      "min         0.000000       0.000000       0.000000      0.000000      0.00000   \n",
      "25%         0.000000       0.000000       0.000000      0.000000      0.00000   \n",
      "50%         0.000000       0.000000       0.000000      0.000000      0.00000   \n",
      "75%         0.000000      25.000000       0.000000      0.000000      0.00000   \n",
      "max    160000.000000  160000.000000  160000.000000  55125.000000  55125.00000   \n",
      "\n",
      "               V336           V337           V338           V339  \n",
      "count  82351.000000   82351.000000   82351.000000   82351.000000  \n",
      "mean      28.530903      55.352422     151.160542     100.700882  \n",
      "std      274.576920     668.486833    1095.034387     814.946722  \n",
      "min        0.000000       0.000000       0.000000       0.000000  \n",
      "25%        0.000000       0.000000       0.000000       0.000000  \n",
      "50%        0.000000       0.000000       0.000000       0.000000  \n",
      "75%        0.000000       0.000000       0.000000       0.000000  \n",
      "max    55125.000000  104060.000000  104060.000000  104060.000000  \n",
      "\n",
      "[8 rows x 380 columns]\n"
     ]
    }
   ],
   "source": [
    "print(trans_df.describe())"
   ]
  },
  {
   "cell_type": "code",
   "execution_count": 70,
   "metadata": {},
   "outputs": [],
   "source": [
    "train_full_df = pd.merge(trans_df, raw_df, on='TransactionID', how='left')"
   ]
  },
  {
   "cell_type": "code",
   "execution_count": 71,
   "metadata": {},
   "outputs": [
    {
     "data": {
      "text/plain": [
       "(590540, 434)"
      ]
     },
     "execution_count": 71,
     "metadata": {},
     "output_type": "execute_result"
    }
   ],
   "source": [
    "train_full_df.shape"
   ]
  },
  {
   "cell_type": "code",
   "execution_count": 72,
   "metadata": {},
   "outputs": [
    {
     "data": {
      "text/plain": [
       "3.4990009144173126"
      ]
     },
     "execution_count": 72,
     "metadata": {},
     "output_type": "execute_result"
    }
   ],
   "source": [
    "len(train_full_df[train_full_df[\"isFraud\"]==1])/len(train_full_df)*100"
   ]
  },
  {
   "cell_type": "code",
   "execution_count": 73,
   "metadata": {},
   "outputs": [],
   "source": [
    "import seaborn as sns\n",
    "import matplotlib.pyplot as plt"
   ]
  },
  {
   "cell_type": "code",
   "execution_count": 74,
   "metadata": {},
   "outputs": [
    {
     "data": {
      "text/plain": [
       "<matplotlib.axes._subplots.AxesSubplot at 0x1284b1908>"
      ]
     },
     "execution_count": 74,
     "metadata": {},
     "output_type": "execute_result"
    },
    {
     "data": {
      "image/png": "[encoded data removed]",
      "text/plain": [
       "<Figure size 432x288 with 1 Axes>"
      ]
     },
     "metadata": {
      "needs_background": "light"
     },
     "output_type": "display_data"
    }
   ],
   "source": [
    "sns.countplot(train_full_df['card4'])"
   ]
  },
  {
   "cell_type": "code",
   "execution_count": 75,
   "metadata": {},
   "outputs": [
    {
     "data": {
      "text/plain": [
       "<matplotlib.axes._subplots.AxesSubplot at 0x1286d8e10>"
      ]
     },
     "execution_count": 75,
     "metadata": {},
     "output_type": "execute_result"
    },
    {
     "data": {
      "image/png": "[encoded data removed]",
      "text/plain": [
       "<Figure size 432x288 with 1 Axes>"
      ]
     },
     "metadata": {
      "needs_background": "light"
     },
     "output_type": "display_data"
    }
   ],
   "source": [
    "sns.countplot(train_full_df['isFraud'])"
   ]
  },
  {
   "cell_type": "code",
   "execution_count": 76,
   "metadata": {},
   "outputs": [
    {
     "data": {
      "image/png": "[encoded data removed]",
      "text/plain": [
       "<Figure size 432x288 with 1 Axes>"
      ]
     },
     "metadata": {
      "needs_background": "light"
     },
     "output_type": "display_data"
    },
    {
     "data": {
      "image/png": "[encoded data removed]",
      "text/plain": [
       "<Figure size 432x288 with 1 Axes>"
      ]
     },
     "metadata": {
      "needs_background": "light"
     },
     "output_type": "display_data"
    },
    {
     "data": {
      "image/png": "[encoded data removed]",
      "text/plain": [
       "<Figure size 432x288 with 1 Axes>"
      ]
     },
     "metadata": {
      "needs_background": "light"
     },
     "output_type": "display_data"
    },
    {
     "data": {
      "image/png": "[encoded data removed]",
      "text/plain": [
       "<Figure size 432x288 with 1 Axes>"
      ]
     },
     "metadata": {
      "needs_background": "light"
     },
     "output_type": "display_data"
    }
   ],
   "source": [
    "cardTypes = ['credit','debit','debit or credit','charge card']\n",
    "for i,i_card in enumerate(cardTypes):\n",
    "    cardData = eval('train_full_df.loc[train_full_df[\"card6\"]==\"'+i_card+'\"]')\n",
    "    plt.figure(i)\n",
    "    sns.countplot(cardData['isFraud']).set_title(i_card)"
   ]
  },
  {
   "cell_type": "code",
   "execution_count": 77,
   "metadata": {},
   "outputs": [
    {
     "data": {
      "text/plain": [
       "(array([  0,   1,   2,   3,   4,   5,   6,   7,   8,   9,  10,  11,  12,\n",
       "         13,  14,  15,  16,  17,  18,  19,  20,  21,  22,  23,  24,  25,\n",
       "         26,  27,  28,  29,  30,  31,  32,  33,  34,  35,  36,  37,  38,\n",
       "         39,  40,  41,  42,  43,  44,  45,  46,  47,  48,  49,  50,  51,\n",
       "         52,  53,  54,  55,  56,  57,  58,  59,  60,  61,  62,  63,  64,\n",
       "         65,  66,  67,  68,  69,  70,  71,  72,  73,  74,  75,  76,  77,\n",
       "         78,  79,  80,  81,  82,  83,  84,  85,  86,  87,  88,  89,  90,\n",
       "         91,  92,  93,  94,  95,  96,  97,  98,  99, 100, 101, 102, 103,\n",
       "        104, 105, 106, 107, 108, 109, 110, 111, 112, 113, 114, 115, 116,\n",
       "        117, 118, 119, 120, 121, 122, 123, 124, 125, 126, 127, 128, 129,\n",
       "        130, 131, 132, 133, 134, 135, 136, 137, 138, 139, 140, 141, 142,\n",
       "        143, 144, 145, 146, 147, 148, 149, 150, 151, 152, 153, 154, 155,\n",
       "        156, 157, 158, 159, 160, 161, 162, 163, 164, 165, 166, 167, 168,\n",
       "        169, 170, 171, 172, 173, 174, 175, 176, 177, 178, 179, 180, 181,\n",
       "        182, 183, 184, 185, 186, 187, 188, 189, 190, 191, 192, 193, 194,\n",
       "        195, 196, 197, 198, 199, 200, 201, 202, 203, 204, 205, 206, 207,\n",
       "        208, 209, 210, 211, 212, 213, 214, 215, 216, 217, 218, 219, 220,\n",
       "        221, 222, 223, 224, 225, 226, 227, 228, 229, 230, 231, 232, 233,\n",
       "        234, 235, 236, 237, 238, 239, 240, 241, 242, 243, 244, 245, 246,\n",
       "        247, 248, 249, 250, 251, 252, 253, 254, 255, 256, 257, 258, 259,\n",
       "        260, 261, 262, 263, 264, 265, 266, 267, 268, 269, 270, 271, 272,\n",
       "        273, 274, 275, 276, 277, 278, 279, 280, 281, 282, 283, 284, 285,\n",
       "        286, 287, 288, 289, 290, 291, 292, 293, 294, 295, 296, 297, 298,\n",
       "        299, 300, 301, 302, 303, 304, 305, 306, 307, 308, 309, 310, 311,\n",
       "        312, 313, 314, 315, 316, 317, 318, 319, 320, 321, 322, 323, 324,\n",
       "        325, 326, 327, 328, 329, 330, 331, 332, 333, 334, 335, 336, 337,\n",
       "        338, 339, 340, 341, 342, 343, 344, 345, 346, 347, 348, 349, 350,\n",
       "        351, 352, 353, 354, 355, 356, 357, 358, 359, 360, 361, 362, 363,\n",
       "        364, 365, 366, 367, 368, 369, 370, 371, 372, 373, 374, 375, 376,\n",
       "        377, 378, 379, 380, 381, 382, 383, 384, 385, 386, 387, 388, 389,\n",
       "        390, 391, 392, 393, 394, 395, 396, 397, 398, 399, 400, 401, 402,\n",
       "        403, 404, 405, 406, 407, 408, 409, 410, 411, 412, 413, 414, 415,\n",
       "        416, 417, 418, 419, 420, 421, 422, 423, 424, 425, 426, 427, 428,\n",
       "        429, 430, 431, 432, 433]), <a list of 434 Text xticklabel objects>)"
      ]
     },
     "execution_count": 77,
     "metadata": {},
     "output_type": "execute_result"
    },
    {
     "data": {
      "image/png": "[encoded data removed]",
      "text/plain": [
       "<Figure size 6480x2880 with 1 Axes>"
      ]
     },
     "metadata": {
      "needs_background": "light"
     },
     "output_type": "display_data"
    }
   ],
   "source": [
    "plt.figure(figsize=(90,40))\n",
    "sns.barplot(y=train_full_df.isnull().sum().sort_values(ascending=False)/len(train_full_df),\n",
    "            x=train_full_df.isnull().sum().sort_values(ascending=False).index,\n",
    "            palette=\"Reds_d\")\n",
    "plt.title(\"Percent Missing Value\",size=50)\n",
    "plt.xticks(rotation=90)"
   ]
  },
  {
   "cell_type": "code",
   "execution_count": 78,
   "metadata": {},
   "outputs": [],
   "source": [
    "columns_def=pd.DataFrame({\"na_count\":train_full_df.isnull().sum().sort_values(ascending=False)})"
   ]
  },
  {
   "cell_type": "code",
   "execution_count": 79,
   "metadata": {},
   "outputs": [],
   "source": [
    "columns_def[\"per\"]=columns_def[\"na_count\"]/len(train_full_df)"
   ]
  },
  {
   "cell_type": "code",
   "execution_count": 80,
   "metadata": {},
   "outputs": [],
   "source": [
    "range=[0.05, 0.10 ,0.15, 0.25, 0.40, 0.60, 0.75]"
   ]
  },
  {
   "cell_type": "code",
   "execution_count": 81,
   "metadata": {},
   "outputs": [
    {
     "name": "stdout",
     "output_type": "stream",
     "text": [
      "0.25806451612903225\n",
      "0.25806451612903225\n",
      "0.3686635944700461\n",
      "0.41935483870967744\n",
      "0.46543778801843316\n",
      "0.5207373271889401\n",
      "0.5207373271889401\n"
     ]
    }
   ],
   "source": [
    "for i in range: \n",
    "    print (columns_def[columns_def[\"per\"]<i].shape[0]/train_full_df.shape[1])"
   ]
  },
  {
   "cell_type": "code",
   "execution_count": 82,
   "metadata": {},
   "outputs": [],
   "source": [
    "limit=0.10"
   ]
  },
  {
   "cell_type": "code",
   "execution_count": 83,
   "metadata": {},
   "outputs": [],
   "source": [
    "columns_final=columns_def[columns_def[\"per\"]<limit].index \n",
    "\n",
    "train_full_df=train_full_df[train_full_df.columns.intersection(columns_final)]"
   ]
  },
  {
   "cell_type": "code",
   "execution_count": 84,
   "metadata": {},
   "outputs": [
    {
     "data": {
      "text/html": [
       "<div>\n",
       "<style scoped>\n",
       "    .dataframe tbody tr th:only-of-type {\n",
       "        vertical-align: middle;\n",
       "    }\n",
       "\n",
       "    .dataframe tbody tr th {\n",
       "        vertical-align: top;\n",
       "    }\n",
       "\n",
       "    .dataframe thead th {\n",
       "        text-align: right;\n",
       "    }\n",
       "</style>\n",
       "<table border=\"1\" class=\"dataframe\">\n",
       "  <thead>\n",
       "    <tr style=\"text-align: right;\">\n",
       "      <th></th>\n",
       "      <th>ProductCD</th>\n",
       "      <th>card4</th>\n",
       "      <th>card6</th>\n",
       "    </tr>\n",
       "  </thead>\n",
       "  <tbody>\n",
       "    <tr>\n",
       "      <th>0</th>\n",
       "      <td>W</td>\n",
       "      <td>discover</td>\n",
       "      <td>credit</td>\n",
       "    </tr>\n",
       "    <tr>\n",
       "      <th>1</th>\n",
       "      <td>W</td>\n",
       "      <td>mastercard</td>\n",
       "      <td>credit</td>\n",
       "    </tr>\n",
       "    <tr>\n",
       "      <th>2</th>\n",
       "      <td>W</td>\n",
       "      <td>visa</td>\n",
       "      <td>debit</td>\n",
       "    </tr>\n",
       "    <tr>\n",
       "      <th>3</th>\n",
       "      <td>W</td>\n",
       "      <td>mastercard</td>\n",
       "      <td>debit</td>\n",
       "    </tr>\n",
       "    <tr>\n",
       "      <th>4</th>\n",
       "      <td>H</td>\n",
       "      <td>mastercard</td>\n",
       "      <td>credit</td>\n",
       "    </tr>\n",
       "    <tr>\n",
       "      <th>5</th>\n",
       "      <td>W</td>\n",
       "      <td>visa</td>\n",
       "      <td>debit</td>\n",
       "    </tr>\n",
       "    <tr>\n",
       "      <th>6</th>\n",
       "      <td>W</td>\n",
       "      <td>visa</td>\n",
       "      <td>debit</td>\n",
       "    </tr>\n",
       "    <tr>\n",
       "      <th>7</th>\n",
       "      <td>W</td>\n",
       "      <td>visa</td>\n",
       "      <td>debit</td>\n",
       "    </tr>\n",
       "    <tr>\n",
       "      <th>8</th>\n",
       "      <td>H</td>\n",
       "      <td>visa</td>\n",
       "      <td>debit</td>\n",
       "    </tr>\n",
       "    <tr>\n",
       "      <th>9</th>\n",
       "      <td>W</td>\n",
       "      <td>mastercard</td>\n",
       "      <td>debit</td>\n",
       "    </tr>\n",
       "    <tr>\n",
       "      <th>10</th>\n",
       "      <td>C</td>\n",
       "      <td>mastercard</td>\n",
       "      <td>credit</td>\n",
       "    </tr>\n",
       "    <tr>\n",
       "      <th>11</th>\n",
       "      <td>C</td>\n",
       "      <td>mastercard</td>\n",
       "      <td>debit</td>\n",
       "    </tr>\n",
       "    <tr>\n",
       "      <th>12</th>\n",
       "      <td>W</td>\n",
       "      <td>visa</td>\n",
       "      <td>debit</td>\n",
       "    </tr>\n",
       "    <tr>\n",
       "      <th>13</th>\n",
       "      <td>W</td>\n",
       "      <td>visa</td>\n",
       "      <td>debit</td>\n",
       "    </tr>\n",
       "    <tr>\n",
       "      <th>14</th>\n",
       "      <td>W</td>\n",
       "      <td>visa</td>\n",
       "      <td>debit</td>\n",
       "    </tr>\n",
       "    <tr>\n",
       "      <th>15</th>\n",
       "      <td>W</td>\n",
       "      <td>visa</td>\n",
       "      <td>debit</td>\n",
       "    </tr>\n",
       "    <tr>\n",
       "      <th>16</th>\n",
       "      <td>H</td>\n",
       "      <td>visa</td>\n",
       "      <td>debit</td>\n",
       "    </tr>\n",
       "    <tr>\n",
       "      <th>17</th>\n",
       "      <td>H</td>\n",
       "      <td>mastercard</td>\n",
       "      <td>credit</td>\n",
       "    </tr>\n",
       "    <tr>\n",
       "      <th>18</th>\n",
       "      <td>W</td>\n",
       "      <td>visa</td>\n",
       "      <td>debit</td>\n",
       "    </tr>\n",
       "    <tr>\n",
       "      <th>19</th>\n",
       "      <td>W</td>\n",
       "      <td>visa</td>\n",
       "      <td>debit</td>\n",
       "    </tr>\n",
       "    <tr>\n",
       "      <th>20</th>\n",
       "      <td>W</td>\n",
       "      <td>mastercard</td>\n",
       "      <td>debit</td>\n",
       "    </tr>\n",
       "    <tr>\n",
       "      <th>21</th>\n",
       "      <td>W</td>\n",
       "      <td>mastercard</td>\n",
       "      <td>debit</td>\n",
       "    </tr>\n",
       "    <tr>\n",
       "      <th>22</th>\n",
       "      <td>H</td>\n",
       "      <td>visa</td>\n",
       "      <td>credit</td>\n",
       "    </tr>\n",
       "    <tr>\n",
       "      <th>23</th>\n",
       "      <td>W</td>\n",
       "      <td>mastercard</td>\n",
       "      <td>debit</td>\n",
       "    </tr>\n",
       "    <tr>\n",
       "      <th>24</th>\n",
       "      <td>W</td>\n",
       "      <td>visa</td>\n",
       "      <td>debit</td>\n",
       "    </tr>\n",
       "    <tr>\n",
       "      <th>25</th>\n",
       "      <td>W</td>\n",
       "      <td>mastercard</td>\n",
       "      <td>debit</td>\n",
       "    </tr>\n",
       "    <tr>\n",
       "      <th>26</th>\n",
       "      <td>W</td>\n",
       "      <td>visa</td>\n",
       "      <td>debit</td>\n",
       "    </tr>\n",
       "    <tr>\n",
       "      <th>27</th>\n",
       "      <td>W</td>\n",
       "      <td>visa</td>\n",
       "      <td>debit</td>\n",
       "    </tr>\n",
       "    <tr>\n",
       "      <th>28</th>\n",
       "      <td>W</td>\n",
       "      <td>mastercard</td>\n",
       "      <td>debit</td>\n",
       "    </tr>\n",
       "    <tr>\n",
       "      <th>29</th>\n",
       "      <td>W</td>\n",
       "      <td>visa</td>\n",
       "      <td>debit</td>\n",
       "    </tr>\n",
       "    <tr>\n",
       "      <th>...</th>\n",
       "      <td>...</td>\n",
       "      <td>...</td>\n",
       "      <td>...</td>\n",
       "    </tr>\n",
       "    <tr>\n",
       "      <th>590510</th>\n",
       "      <td>W</td>\n",
       "      <td>visa</td>\n",
       "      <td>debit</td>\n",
       "    </tr>\n",
       "    <tr>\n",
       "      <th>590511</th>\n",
       "      <td>W</td>\n",
       "      <td>visa</td>\n",
       "      <td>debit</td>\n",
       "    </tr>\n",
       "    <tr>\n",
       "      <th>590512</th>\n",
       "      <td>W</td>\n",
       "      <td>visa</td>\n",
       "      <td>credit</td>\n",
       "    </tr>\n",
       "    <tr>\n",
       "      <th>590513</th>\n",
       "      <td>W</td>\n",
       "      <td>visa</td>\n",
       "      <td>debit</td>\n",
       "    </tr>\n",
       "    <tr>\n",
       "      <th>590514</th>\n",
       "      <td>W</td>\n",
       "      <td>visa</td>\n",
       "      <td>debit</td>\n",
       "    </tr>\n",
       "    <tr>\n",
       "      <th>590515</th>\n",
       "      <td>W</td>\n",
       "      <td>visa</td>\n",
       "      <td>debit</td>\n",
       "    </tr>\n",
       "    <tr>\n",
       "      <th>590516</th>\n",
       "      <td>W</td>\n",
       "      <td>visa</td>\n",
       "      <td>debit</td>\n",
       "    </tr>\n",
       "    <tr>\n",
       "      <th>590517</th>\n",
       "      <td>W</td>\n",
       "      <td>visa</td>\n",
       "      <td>credit</td>\n",
       "    </tr>\n",
       "    <tr>\n",
       "      <th>590518</th>\n",
       "      <td>W</td>\n",
       "      <td>visa</td>\n",
       "      <td>debit</td>\n",
       "    </tr>\n",
       "    <tr>\n",
       "      <th>590519</th>\n",
       "      <td>W</td>\n",
       "      <td>mastercard</td>\n",
       "      <td>debit</td>\n",
       "    </tr>\n",
       "    <tr>\n",
       "      <th>590520</th>\n",
       "      <td>W</td>\n",
       "      <td>visa</td>\n",
       "      <td>debit</td>\n",
       "    </tr>\n",
       "    <tr>\n",
       "      <th>590521</th>\n",
       "      <td>C</td>\n",
       "      <td>mastercard</td>\n",
       "      <td>debit</td>\n",
       "    </tr>\n",
       "    <tr>\n",
       "      <th>590522</th>\n",
       "      <td>W</td>\n",
       "      <td>visa</td>\n",
       "      <td>debit</td>\n",
       "    </tr>\n",
       "    <tr>\n",
       "      <th>590523</th>\n",
       "      <td>W</td>\n",
       "      <td>mastercard</td>\n",
       "      <td>debit</td>\n",
       "    </tr>\n",
       "    <tr>\n",
       "      <th>590524</th>\n",
       "      <td>W</td>\n",
       "      <td>mastercard</td>\n",
       "      <td>debit</td>\n",
       "    </tr>\n",
       "    <tr>\n",
       "      <th>590525</th>\n",
       "      <td>W</td>\n",
       "      <td>visa</td>\n",
       "      <td>debit</td>\n",
       "    </tr>\n",
       "    <tr>\n",
       "      <th>590526</th>\n",
       "      <td>R</td>\n",
       "      <td>visa</td>\n",
       "      <td>credit</td>\n",
       "    </tr>\n",
       "    <tr>\n",
       "      <th>590527</th>\n",
       "      <td>W</td>\n",
       "      <td>visa</td>\n",
       "      <td>debit</td>\n",
       "    </tr>\n",
       "    <tr>\n",
       "      <th>590528</th>\n",
       "      <td>W</td>\n",
       "      <td>mastercard</td>\n",
       "      <td>credit</td>\n",
       "    </tr>\n",
       "    <tr>\n",
       "      <th>590529</th>\n",
       "      <td>C</td>\n",
       "      <td>mastercard</td>\n",
       "      <td>credit</td>\n",
       "    </tr>\n",
       "    <tr>\n",
       "      <th>590530</th>\n",
       "      <td>W</td>\n",
       "      <td>mastercard</td>\n",
       "      <td>credit</td>\n",
       "    </tr>\n",
       "    <tr>\n",
       "      <th>590531</th>\n",
       "      <td>R</td>\n",
       "      <td>visa</td>\n",
       "      <td>credit</td>\n",
       "    </tr>\n",
       "    <tr>\n",
       "      <th>590532</th>\n",
       "      <td>W</td>\n",
       "      <td>mastercard</td>\n",
       "      <td>debit</td>\n",
       "    </tr>\n",
       "    <tr>\n",
       "      <th>590533</th>\n",
       "      <td>W</td>\n",
       "      <td>visa</td>\n",
       "      <td>debit</td>\n",
       "    </tr>\n",
       "    <tr>\n",
       "      <th>590534</th>\n",
       "      <td>C</td>\n",
       "      <td>mastercard</td>\n",
       "      <td>debit</td>\n",
       "    </tr>\n",
       "    <tr>\n",
       "      <th>590535</th>\n",
       "      <td>W</td>\n",
       "      <td>visa</td>\n",
       "      <td>debit</td>\n",
       "    </tr>\n",
       "    <tr>\n",
       "      <th>590536</th>\n",
       "      <td>W</td>\n",
       "      <td>mastercard</td>\n",
       "      <td>debit</td>\n",
       "    </tr>\n",
       "    <tr>\n",
       "      <th>590537</th>\n",
       "      <td>W</td>\n",
       "      <td>mastercard</td>\n",
       "      <td>debit</td>\n",
       "    </tr>\n",
       "    <tr>\n",
       "      <th>590538</th>\n",
       "      <td>W</td>\n",
       "      <td>mastercard</td>\n",
       "      <td>debit</td>\n",
       "    </tr>\n",
       "    <tr>\n",
       "      <th>590539</th>\n",
       "      <td>W</td>\n",
       "      <td>mastercard</td>\n",
       "      <td>credit</td>\n",
       "    </tr>\n",
       "  </tbody>\n",
       "</table>\n",
       "<p>590540 rows × 3 columns</p>\n",
       "</div>"
      ],
      "text/plain": [
       "       ProductCD       card4   card6\n",
       "0              W    discover  credit\n",
       "1              W  mastercard  credit\n",
       "2              W        visa   debit\n",
       "3              W  mastercard   debit\n",
       "4              H  mastercard  credit\n",
       "5              W        visa   debit\n",
       "6              W        visa   debit\n",
       "7              W        visa   debit\n",
       "8              H        visa   debit\n",
       "9              W  mastercard   debit\n",
       "10             C  mastercard  credit\n",
       "11             C  mastercard   debit\n",
       "12             W        visa   debit\n",
       "13             W        visa   debit\n",
       "14             W        visa   debit\n",
       "15             W        visa   debit\n",
       "16             H        visa   debit\n",
       "17             H  mastercard  credit\n",
       "18             W        visa   debit\n",
       "19             W        visa   debit\n",
       "20             W  mastercard   debit\n",
       "21             W  mastercard   debit\n",
       "22             H        visa  credit\n",
       "23             W  mastercard   debit\n",
       "24             W        visa   debit\n",
       "25             W  mastercard   debit\n",
       "26             W        visa   debit\n",
       "27             W        visa   debit\n",
       "28             W  mastercard   debit\n",
       "29             W        visa   debit\n",
       "...          ...         ...     ...\n",
       "590510         W        visa   debit\n",
       "590511         W        visa   debit\n",
       "590512         W        visa  credit\n",
       "590513         W        visa   debit\n",
       "590514         W        visa   debit\n",
       "590515         W        visa   debit\n",
       "590516         W        visa   debit\n",
       "590517         W        visa  credit\n",
       "590518         W        visa   debit\n",
       "590519         W  mastercard   debit\n",
       "590520         W        visa   debit\n",
       "590521         C  mastercard   debit\n",
       "590522         W        visa   debit\n",
       "590523         W  mastercard   debit\n",
       "590524         W  mastercard   debit\n",
       "590525         W        visa   debit\n",
       "590526         R        visa  credit\n",
       "590527         W        visa   debit\n",
       "590528         W  mastercard  credit\n",
       "590529         C  mastercard  credit\n",
       "590530         W  mastercard  credit\n",
       "590531         R        visa  credit\n",
       "590532         W  mastercard   debit\n",
       "590533         W        visa   debit\n",
       "590534         C  mastercard   debit\n",
       "590535         W        visa   debit\n",
       "590536         W  mastercard   debit\n",
       "590537         W  mastercard   debit\n",
       "590538         W  mastercard   debit\n",
       "590539         W  mastercard  credit\n",
       "\n",
       "[590540 rows x 3 columns]"
      ]
     },
     "execution_count": 84,
     "metadata": {},
     "output_type": "execute_result"
    }
   ],
   "source": [
    "train_full_df[train_full_df.select_dtypes(include=['object']).columns]"
   ]
  },
  {
   "cell_type": "code",
   "execution_count": 85,
   "metadata": {},
   "outputs": [],
   "source": [
    "card6_dummy_df=pd.get_dummies(train_full_df[\"card6\"])"
   ]
  },
  {
   "cell_type": "code",
   "execution_count": 86,
   "metadata": {},
   "outputs": [
    {
     "data": {
      "text/plain": [
       "(590540, 112)"
      ]
     },
     "execution_count": 86,
     "metadata": {},
     "output_type": "execute_result"
    }
   ],
   "source": [
    "train_full_df.shape"
   ]
  },
  {
   "cell_type": "code",
   "execution_count": 87,
   "metadata": {},
   "outputs": [],
   "source": [
    "train_full_df=pd.concat([train_full_df,card6_dummy_df],axis=1)"
   ]
  },
  {
   "cell_type": "code",
   "execution_count": 88,
   "metadata": {},
   "outputs": [
    {
     "data": {
      "text/plain": [
       "3.46278261170406"
      ]
     },
     "execution_count": 88,
     "metadata": {},
     "output_type": "execute_result"
    }
   ],
   "source": [
    "train_full_df=train_full_df._get_numeric_data()\n",
    "train_full_df=train_full_df.dropna()\n",
    "\n",
    "len(train_full_df[train_full_df[\"isFraud\"]==1])/len(train_full_df)*100"
   ]
  },
  {
   "cell_type": "markdown",
   "metadata": {},
   "source": [
    "## Select features for training"
   ]
  },
  {
   "cell_type": "code",
   "execution_count": 89,
   "metadata": {},
   "outputs": [],
   "source": [
    "x_full_df=train_full_df.drop([\"isFraud\"],axis=1)\n",
    "y_full_df=train_full_df[\"isFraud\"]"
   ]
  },
  {
   "cell_type": "code",
   "execution_count": 90,
   "metadata": {},
   "outputs": [],
   "source": [
    "from sklearn.model_selection import train_test_split\n",
    "X_train,X_test,y_train,y_test=train_test_split(x_full_df,y_full_df,test_size=0.50)"
   ]
  },
  {
   "cell_type": "markdown",
   "metadata": {},
   "source": [
    "## LogisticRegression Model & Predict"
   ]
  },
  {
   "cell_type": "code",
   "execution_count": 91,
   "metadata": {},
   "outputs": [],
   "source": [
    "from sklearn.linear_model import LogisticRegression  \n",
    "from sklearn.preprocessing import StandardScaler  \n",
    "\n",
    "from sklearn.metrics import confusion_matrix\n",
    "from sklearn.metrics import classification_report\n",
    "\n",
    "from sklearn.metrics import recall_score\n",
    "from sklearn.metrics import accuracy_score"
   ]
  },
  {
   "cell_type": "code",
   "execution_count": 92,
   "metadata": {},
   "outputs": [
    {
     "data": {
      "text/plain": [
       "LogisticRegression(C=1.0, class_weight=None, dual=False, fit_intercept=True,\n",
       "          intercept_scaling=1, max_iter=100, multi_class='warn',\n",
       "          n_jobs=None, penalty='l2', random_state=None, solver='lbfgs',\n",
       "          tol=0.0001, verbose=0, warm_start=False)"
      ]
     },
     "execution_count": 92,
     "metadata": {},
     "output_type": "execute_result"
    }
   ],
   "source": [
    "lr = LogisticRegression(solver='lbfgs')  \n",
    "lr.fit(X_train, y_train)"
   ]
  },
  {
   "cell_type": "code",
   "execution_count": 93,
   "metadata": {},
   "outputs": [
    {
     "data": {
      "text/plain": [
       "0.965244166133301"
      ]
     },
     "execution_count": 93,
     "metadata": {},
     "output_type": "execute_result"
    }
   ],
   "source": [
    "lr.score(X_test, y_test)"
   ]
  },
  {
   "cell_type": "code",
   "execution_count": 94,
   "metadata": {},
   "outputs": [],
   "source": [
    "y_pred=lr.predict(X_test)"
   ]
  },
  {
   "cell_type": "code",
   "execution_count": 95,
   "metadata": {},
   "outputs": [
    {
     "data": {
      "text/html": [
       "<div>\n",
       "<style scoped>\n",
       "    .dataframe tbody tr th:only-of-type {\n",
       "        vertical-align: middle;\n",
       "    }\n",
       "\n",
       "    .dataframe tbody tr th {\n",
       "        vertical-align: top;\n",
       "    }\n",
       "\n",
       "    .dataframe thead th {\n",
       "        text-align: right;\n",
       "    }\n",
       "</style>\n",
       "<table border=\"1\" class=\"dataframe\">\n",
       "  <thead>\n",
       "    <tr style=\"text-align: right;\">\n",
       "      <th>Predicted</th>\n",
       "      <th>0</th>\n",
       "      <th>All</th>\n",
       "    </tr>\n",
       "    <tr>\n",
       "      <th>True</th>\n",
       "      <th></th>\n",
       "      <th></th>\n",
       "    </tr>\n",
       "  </thead>\n",
       "  <tbody>\n",
       "    <tr>\n",
       "      <th>0</th>\n",
       "      <td>278999</td>\n",
       "      <td>278999</td>\n",
       "    </tr>\n",
       "    <tr>\n",
       "      <th>1</th>\n",
       "      <td>10046</td>\n",
       "      <td>10046</td>\n",
       "    </tr>\n",
       "    <tr>\n",
       "      <th>All</th>\n",
       "      <td>289045</td>\n",
       "      <td>289045</td>\n",
       "    </tr>\n",
       "  </tbody>\n",
       "</table>\n",
       "</div>"
      ],
      "text/plain": [
       "Predicted       0     All\n",
       "True                     \n",
       "0          278999  278999\n",
       "1           10046   10046\n",
       "All        289045  289045"
      ]
     },
     "execution_count": 95,
     "metadata": {},
     "output_type": "execute_result"
    }
   ],
   "source": [
    "pd.crosstab(y_test, y_pred, rownames=['True'], colnames=['Predicted'], margins=True)"
   ]
  },
  {
   "cell_type": "code",
   "execution_count": 96,
   "metadata": {},
   "outputs": [
    {
     "data": {
      "text/plain": [
       "0.0"
      ]
     },
     "execution_count": 96,
     "metadata": {},
     "output_type": "execute_result"
    }
   ],
   "source": [
    "recall_score(y_test, y_pred)"
   ]
  },
  {
   "cell_type": "code",
   "execution_count": 97,
   "metadata": {},
   "outputs": [
    {
     "data": {
      "text/plain": [
       "0.965244166133301"
      ]
     },
     "execution_count": 97,
     "metadata": {},
     "output_type": "execute_result"
    }
   ],
   "source": [
    "accuracy_score(y_test, y_pred)"
   ]
  },
  {
   "cell_type": "code",
   "execution_count": 98,
   "metadata": {},
   "outputs": [
    {
     "data": {
      "text/plain": [
       "0.0"
      ]
     },
     "execution_count": 98,
     "metadata": {},
     "output_type": "execute_result"
    }
   ],
   "source": [
    "recall_score(y_test, y_pred)"
   ]
  }
 ],
 "metadata": {
  "kernelspec": {
   "display_name": "Python 3",
   "language": "python",
   "name": "python3"
  },
  "language_info": {
   "codemirror_mode": {
    "name": "ipython",
    "version": 3
   },
   "file_extension": ".py",
   "mimetype": "text/x-python",
   "name": "python",
   "nbconvert_exporter": "python",
   "pygments_lexer": "ipython3",
   "version": "3.7.1"
  }
 },
 "nbformat": 4,
 "nbformat_minor": 2
}
